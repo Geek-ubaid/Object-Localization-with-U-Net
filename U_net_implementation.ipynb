{
  "nbformat": 4,
  "nbformat_minor": 0,
  "metadata": {
    "colab": {
      "name": "Flipkart_challenge.ipynb",
      "version": "0.3.2",
      "provenance": [],
      "collapsed_sections": []
    },
    "kernelspec": {
      "name": "python3",
      "display_name": "Python 3"
    },
    "accelerator": "TPU"
  },
  "cells": [
    {
      "metadata": {
        "id": "dWTer5GkWqU7",
        "colab_type": "text"
      },
      "cell_type": "markdown",
      "source": [
        "# Importing the Libraries"
      ]
    },
    {
      "metadata": {
        "id": "vwMGIHiNUkMv",
        "colab_type": "code",
        "outputId": "d83cbdbe-6848-4730-8ff2-a3c0329a6090",
        "colab": {
          "base_uri": "https://localhost:8080/",
          "height": 34
        }
      },
      "cell_type": "code",
      "source": [
        "!pip install tensorboardcolab"
      ],
      "execution_count": 0,
      "outputs": [
        {
          "output_type": "stream",
          "text": [
            "Requirement already satisfied: tensorboardcolab in /usr/local/lib/python3.6/dist-packages (0.0.22)\n"
          ],
          "name": "stdout"
        }
      ]
    },
    {
      "metadata": {
        "id": "INXW6grSVo0g",
        "colab_type": "code",
        "outputId": "614c754f-19f2-4be3-d1c7-cbe2a6e69e7d",
        "colab": {
          "base_uri": "https://localhost:8080/",
          "height": 122
        }
      },
      "cell_type": "code",
      "source": [
        "from google.colab import drive\n",
        "\n",
        "drive.mount('/content/gdrive')"
      ],
      "execution_count": 0,
      "outputs": [
        {
          "output_type": "stream",
          "text": [
            "Go to this URL in a browser: https://accounts.google.com/o/oauth2/auth?client_id=947318989803-6bn6qk8qdgf4n4g3pfee6491hc0brc4i.apps.googleusercontent.com&redirect_uri=urn%3Aietf%3Awg%3Aoauth%3A2.0%3Aoob&scope=email%20https%3A%2F%2Fwww.googleapis.com%2Fauth%2Fdocs.test%20https%3A%2F%2Fwww.googleapis.com%2Fauth%2Fdrive%20https%3A%2F%2Fwww.googleapis.com%2Fauth%2Fdrive.photos.readonly%20https%3A%2F%2Fwww.googleapis.com%2Fauth%2Fpeopleapi.readonly&response_type=code\n",
            "\n",
            "Enter your authorization code:\n",
            "··········\n",
            "Mounted at /content/gdrive\n"
          ],
          "name": "stdout"
        }
      ]
    },
    {
      "metadata": {
        "id": "nOKkuCInWqVB",
        "colab_type": "code",
        "colab": {}
      },
      "cell_type": "code",
      "source": [
        "%matplotlib inline\n",
        "import numpy as np\n",
        "import pandas as pd\n",
        "import os\n",
        "import matplotlib.pyplot as plt\n",
        "import cv2\n",
        "import pickle\n",
        "import random\n",
        "import tensorflow as tf\n",
        "from skimage.io import imread, imshow, imread_collection, concatenate_images\n"
      ],
      "execution_count": 0,
      "outputs": []
    },
    {
      "metadata": {
        "id": "2daVD8uKWqVN",
        "colab_type": "text"
      },
      "cell_type": "markdown",
      "source": [
        "# Preprocessing \n",
        "- Loading images into arrays\n",
        "- storing the arrays into pickle file\n",
        "\n",
        "## DO NOT RUN THE CELLS UPTILL CNN MODEL"
      ]
    },
    {
      "metadata": {
        "id": "mClPd8u2WqVP",
        "colab_type": "code",
        "colab": {}
      },
      "cell_type": "code",
      "source": [
        "image_height = 128\n",
        "image_width = 128"
      ],
      "execution_count": 0,
      "outputs": []
    },
    {
      "metadata": {
        "id": "UO9EcjWsWqVY",
        "colab_type": "code",
        "outputId": "a305a47c-4e04-4cdf-967c-ef29bfe5a62e",
        "colab": {
          "base_uri": "https://localhost:8080/",
          "height": 204
        }
      },
      "cell_type": "code",
      "source": [
        "train_data_file = pd.read_csv('/content/gdrive/My Drive/training_set.csv')\n",
        "train_data_file.head()\n"
      ],
      "execution_count": 0,
      "outputs": [
        {
          "output_type": "execute_result",
          "data": {
            "text/html": [
              "<div>\n",
              "<style scoped>\n",
              "    .dataframe tbody tr th:only-of-type {\n",
              "        vertical-align: middle;\n",
              "    }\n",
              "\n",
              "    .dataframe tbody tr th {\n",
              "        vertical-align: top;\n",
              "    }\n",
              "\n",
              "    .dataframe thead th {\n",
              "        text-align: right;\n",
              "    }\n",
              "</style>\n",
              "<table border=\"1\" class=\"dataframe\">\n",
              "  <thead>\n",
              "    <tr style=\"text-align: right;\">\n",
              "      <th></th>\n",
              "      <th>image_name</th>\n",
              "      <th>x1</th>\n",
              "      <th>x2</th>\n",
              "      <th>y1</th>\n",
              "      <th>y2</th>\n",
              "    </tr>\n",
              "  </thead>\n",
              "  <tbody>\n",
              "    <tr>\n",
              "      <th>0</th>\n",
              "      <td>JPEG_20160517_140621_1000651031832.png</td>\n",
              "      <td>78</td>\n",
              "      <td>446</td>\n",
              "      <td>83</td>\n",
              "      <td>422</td>\n",
              "    </tr>\n",
              "    <tr>\n",
              "      <th>1</th>\n",
              "      <td>1473231510890DeeplearnS11456.png</td>\n",
              "      <td>73</td>\n",
              "      <td>567</td>\n",
              "      <td>146</td>\n",
              "      <td>351</td>\n",
              "    </tr>\n",
              "    <tr>\n",
              "      <th>2</th>\n",
              "      <td>1476881557883Untitled1.png</td>\n",
              "      <td>13</td>\n",
              "      <td>561</td>\n",
              "      <td>124</td>\n",
              "      <td>362</td>\n",
              "    </tr>\n",
              "    <tr>\n",
              "      <th>3</th>\n",
              "      <td>1474264827890cobalt-beyond-the-sea-maxi-dress3...</td>\n",
              "      <td>0</td>\n",
              "      <td>640</td>\n",
              "      <td>140</td>\n",
              "      <td>330</td>\n",
              "    </tr>\n",
              "    <tr>\n",
              "      <th>4</th>\n",
              "      <td>JPEG_20160711_113321_1000235741992.png</td>\n",
              "      <td>217</td>\n",
              "      <td>442</td>\n",
              "      <td>65</td>\n",
              "      <td>465</td>\n",
              "    </tr>\n",
              "  </tbody>\n",
              "</table>\n",
              "</div>"
            ],
            "text/plain": [
              "                                          image_name   x1   x2   y1   y2\n",
              "0             JPEG_20160517_140621_1000651031832.png   78  446   83  422\n",
              "1                   1473231510890DeeplearnS11456.png   73  567  146  351\n",
              "2                         1476881557883Untitled1.png   13  561  124  362\n",
              "3  1474264827890cobalt-beyond-the-sea-maxi-dress3...    0  640  140  330\n",
              "4             JPEG_20160711_113321_1000235741992.png  217  442   65  465"
            ]
          },
          "metadata": {
            "tags": []
          },
          "execution_count": 4
        }
      ]
    },
    {
      "metadata": {
        "id": "pAb2T2GEW17i",
        "colab_type": "code",
        "outputId": "f8c8ef0b-ea49-49d4-9787-b7a7e71e6495",
        "colab": {
          "base_uri": "https://localhost:8080/",
          "height": 34
        }
      },
      "cell_type": "code",
      "source": [
        "print(len(train_data_file))"
      ],
      "execution_count": 0,
      "outputs": [
        {
          "output_type": "stream",
          "text": [
            "24000\n"
          ],
          "name": "stdout"
        }
      ]
    },
    {
      "metadata": {
        "id": "LJC3FEWCWqV5",
        "colab_type": "code",
        "outputId": "6ca3bb28-e6f3-48a0-f7c2-97857abe0917",
        "colab": {
          "base_uri": "https://localhost:8080/",
          "height": 867
        }
      },
      "cell_type": "code",
      "source": [
        "with open(\"/content/gdrive/My Drive/training_images_2.pkl\",\"rb\") as file:\n",
        "    images_array = pickle.load(file)\n",
        "images_array = np.array(images_array)\n",
        "print(images_array[0])\n",
        "print(\"size of pickle array : {}\".format(len(images_array)))"
      ],
      "execution_count": 0,
      "outputs": [
        {
          "output_type": "stream",
          "text": [
            "[[[125 140 143]\n",
            "  [125 140 142]\n",
            "  [123 138 140]\n",
            "  ...\n",
            "  [ 75  85  85]\n",
            "  [ 76  85  85]\n",
            "  [ 75  86  84]]\n",
            "\n",
            " [[127 142 145]\n",
            "  [125 140 143]\n",
            "  [124 139 141]\n",
            "  ...\n",
            "  [ 75  87  87]\n",
            "  [ 76  85  88]\n",
            "  [ 76  86  86]]\n",
            "\n",
            " [[130 145 148]\n",
            "  [128 143 146]\n",
            "  [127 142 145]\n",
            "  ...\n",
            "  [ 76  88  90]\n",
            "  [ 76  85  89]\n",
            "  [ 78  87  90]]\n",
            "\n",
            " ...\n",
            "\n",
            " [[121 140 143]\n",
            "  [125 144 147]\n",
            "  [124 143 148]\n",
            "  ...\n",
            "  [ 72  87  72]\n",
            "  [ 64  68  18]\n",
            "  [ 54  52   0]]\n",
            "\n",
            " [[119 138 141]\n",
            "  [120 139 142]\n",
            "  [121 140 145]\n",
            "  ...\n",
            "  [ 57  66  34]\n",
            "  [ 59  61   2]\n",
            "  [ 57  60  10]]\n",
            "\n",
            " [[118 135 138]\n",
            "  [118 135 138]\n",
            "  [121 138 141]\n",
            "  ...\n",
            "  [ 57  65  28]\n",
            "  [ 62  65   9]\n",
            "  [ 57  63  11]]]\n",
            "size of pickle array : 24000\n"
          ],
          "name": "stdout"
        }
      ]
    },
    {
      "metadata": {
        "id": "rKEQlv2NS6n3",
        "colab_type": "code",
        "outputId": "f86ee0a3-2811-4c3d-bf25-66746b6c1b57",
        "colab": {
          "base_uri": "https://localhost:8080/",
          "height": 402
        }
      },
      "cell_type": "code",
      "source": [
        "ix = random.randint(0, len(images_array))\n",
        "imshow(images_array[ix])\n",
        "plt.show()\n"
      ],
      "execution_count": 0,
      "outputs": [
        {
          "output_type": "stream",
          "text": [
            "/usr/local/lib/python3.6/dist-packages/skimage/io/_plugins/matplotlib_plugin.py:51: FutureWarning: Conversion of the second argument of issubdtype from `float` to `np.floating` is deprecated. In future, it will be treated as `np.float64 == np.dtype(float).type`.\n",
            "  out_of_range_float = (np.issubdtype(image.dtype, np.float) and\n",
            "/usr/local/lib/python3.6/dist-packages/matplotlib/axes/_base.py:1334: MatplotlibDeprecationWarning: \n",
            "box-forced\n",
            "  \"2.2\", \"box-forced\", obj_type=\"keyword argument\")\n"
          ],
          "name": "stderr"
        },
        {
          "output_type": "display_data",
          "data": {
            "image/png": "[encoded data removed]",
            "text/plain": [
              "<Figure size 432x288 with 1 Axes>"
            ]
          },
          "metadata": {
            "tags": []
          }
        }
      ]
    },
    {
      "metadata": {
        "id": "39cqpomxWqWA",
        "colab_type": "code",
        "outputId": "eef59cc9-e8df-4ff7-be01-eb8128449366",
        "colab": {
          "base_uri": "https://localhost:8080/",
          "height": 865
        }
      },
      "cell_type": "code",
      "source": [
        "fig = plt.subplots(3,3,sharex='col',sharey='row',figsize=(15,15))\n",
        "plt.xticks([])\n",
        "plt.yticks([])\n",
        "plt.axis(\"off\")\n",
        "\n",
        "for i in range(1,10):\n",
        "  rand_index = random.randint(0,len(images_array))\n",
        "  plt.subplot(3,3,i)\n",
        "  plt.imshow(images_array[rand_index])\n",
        "plt.show()"
      ],
      "execution_count": 0,
      "outputs": [
        {
          "output_type": "display_data",
          "data": {
            "image/png": "[encoded data removed]",
            "text/plain": [
              "<Figure size 1080x1080 with 9 Axes>"
            ]
          },
          "metadata": {
            "tags": []
          }
        }
      ]
    },
    {
      "metadata": {
        "id": "FgiHTj2UWqWb",
        "colab_type": "text"
      },
      "cell_type": "markdown",
      "source": [
        "# Unet  Model Implementation\n",
        "- run the cells below this"
      ]
    },
    {
      "metadata": {
        "id": "Y0In9ZUtWqWd",
        "colab_type": "code",
        "colab": {}
      },
      "cell_type": "code",
      "source": [
        "import tensorflow as tf\n",
        "from keras.models import Model, load_model\n",
        "from keras.layers import Input,GlobalAveragePooling2D,Dense\n",
        "from keras.layers.core import Dropout, Lambda\n",
        "from keras.layers.convolutional import Conv2D, Conv2DTranspose\n",
        "from keras.layers.pooling import MaxPooling2D\n",
        "from keras.layers.merge import concatenate\n",
        "from keras.callbacks import EarlyStopping, ModelCheckpoint\n",
        "from keras import backend as K"
      ],
      "execution_count": 0,
      "outputs": []
    },
    {
      "metadata": {
        "id": "q3jaeP8FUhZO",
        "colab_type": "code",
        "colab": {}
      },
      "cell_type": "code",
      "source": [
        "def IOU_calc(y_true, y_pred,smooth=2):\n",
        "    y_true_f = K.flatten(y_true)\n",
        "    y_pred_f = K.flatten(y_pred)\n",
        "    intersection = K.sum(y_true_f * y_pred_f)\n",
        "    \n",
        "    return 2*(intersection + smooth) / (K.sum(y_true_f) + K.sum(y_pred_f) + smooth)\n",
        "\n",
        "\n",
        "def IOU_calc_loss(y_true, y_pred):\n",
        "    return -IOU_calc(y_true, y_pred)"
      ],
      "execution_count": 0,
      "outputs": []
    },
    {
      "metadata": {
        "id": "W20io0bkn7Vd",
        "colab_type": "code",
        "outputId": "8c08f99f-d039-48d3-a9a0-50786e33bdf3",
        "colab": {
          "base_uri": "https://localhost:8080/",
          "height": 1666
        }
      },
      "cell_type": "code",
      "source": [
        "inputs = Input((image_height, image_width, 3))\n",
        "s = Lambda(lambda x: x / 255) (inputs)\n",
        "\n",
        "c1 = Conv2D(16, (3, 3), activation='elu', kernel_initializer='he_normal', padding='same') (s)\n",
        "c1 = Dropout(0.1) (c1)\n",
        "c1 = Conv2D(16, (3, 3), activation='elu', kernel_initializer='he_normal', padding='same') (c1)\n",
        "p1 = MaxPooling2D((2, 2)) (c1)\n",
        "\n",
        "c2 = Conv2D(32, (3, 3), activation='elu', kernel_initializer='he_normal', padding='same') (p1)\n",
        "c2 = Dropout(0.1) (c2)\n",
        "c2 = Conv2D(32, (3, 3), activation='elu', kernel_initializer='he_normal', padding='same') (c2)\n",
        "p2 = MaxPooling2D((2, 2)) (c2)\n",
        "\n",
        "c3 = Conv2D(64, (3, 3), activation='elu', kernel_initializer='he_normal', padding='same') (p2)\n",
        "c3 = Dropout(0.2) (c3)\n",
        "c3 = Conv2D(64, (3, 3), activation='elu', kernel_initializer='he_normal', padding='same') (c3)\n",
        "p3 = MaxPooling2D((2, 2)) (c3)\n",
        "\n",
        "c4 = Conv2D(128, (3, 3), activation='elu', kernel_initializer='he_normal', padding='same') (p3)\n",
        "c4 = Dropout(0.2) (c4)\n",
        "c4 = Conv2D(128, (3, 3), activation='elu', kernel_initializer='he_normal', padding='same') (c4)\n",
        "p4 = MaxPooling2D(pool_size=(2, 2)) (c4)\n",
        "\n",
        "c5 = Conv2D(256, (3, 3), activation='elu', kernel_initializer='he_normal', padding='same') (p4)\n",
        "c5 = Dropout(0.3) (c5)\n",
        "c5 = Conv2D(256, (3, 3), activation='elu', kernel_initializer='he_normal', padding='same') (c5)\n",
        "\n",
        "u6 = Conv2DTranspose(128, (2, 2), strides=(2, 2), padding='same') (c5)\n",
        "u6 = concatenate([u6, c4])\n",
        "c6 = Conv2D(128, (3, 3), activation='elu', kernel_initializer='he_normal', padding='same') (u6)\n",
        "c6 = Dropout(0.2) (c6)\n",
        "c6 = Conv2D(128, (3, 3), activation='elu', kernel_initializer='he_normal', padding='same') (c6)\n",
        "\n",
        "u7 = Conv2DTranspose(64, (2, 2), strides=(2, 2), padding='same') (c6)\n",
        "u7 = concatenate([u7, c3])\n",
        "c7 = Conv2D(64, (3, 3), activation='elu', kernel_initializer='he_normal', padding='same') (u7)\n",
        "\n",
        "c7 = Dropout(0.2) (c7)\n",
        "c7 = Conv2D(64, (3, 3), activation='elu', kernel_initializer='he_normal', padding='same') (c7)\n",
        "\n",
        "u8 = Conv2DTranspose(32, (2, 2), strides=(2, 2), padding='same') (c7)\n",
        "u8 = concatenate([u8, c2])\n",
        "c8 = Conv2D(32, (3, 3), activation='elu', kernel_initializer='he_normal', padding='same') (u8)\n",
        "c8 = Dropout(0.1) (c8)\n",
        "c8 = Conv2D(32, (3, 3), activation='elu', kernel_initializer='he_normal', padding='same') (c8)\n",
        "\n",
        "u9 = Conv2DTranspose(16, (2, 2), strides=(2, 2), padding='same') (c8)\n",
        "u9 = concatenate([u9, c1], axis=3)\n",
        "c9 = Conv2D(16, (3, 3), activation='elu', kernel_initializer='he_normal', padding='same') (u9)\n",
        "c9 = Dropout(0.1) (c9)\n",
        "c9 = Conv2D(16, (3, 3), activation='elu', kernel_initializer='he_normal', padding='same') (c9)\n",
        "\n",
        "gap_layer = GlobalAveragePooling2D() (c9)\n",
        "outputs = Dense(4,activation='linear')(gap_layer)\n",
        "\n",
        "model = Model(inputs=[inputs], outputs=[outputs])\n",
        "model.compile(optimizer='adam', loss='mse', metrics=[IOU_calc_loss])\n",
        "model.summary()"
      ],
      "execution_count": 0,
      "outputs": [
        {
          "output_type": "stream",
          "text": [
            "__________________________________________________________________________________________________\n",
            "Layer (type)                    Output Shape         Param #     Connected to                     \n",
            "==================================================================================================\n",
            "input_6 (InputLayer)            (None, 128, 128, 3)  0                                            \n",
            "__________________________________________________________________________________________________\n",
            "lambda_6 (Lambda)               (None, 128, 128, 3)  0           input_6[0][0]                    \n",
            "__________________________________________________________________________________________________\n",
            "conv2d_92 (Conv2D)              (None, 128, 128, 16) 448         lambda_6[0][0]                   \n",
            "__________________________________________________________________________________________________\n",
            "dropout_46 (Dropout)            (None, 128, 128, 16) 0           conv2d_92[0][0]                  \n",
            "__________________________________________________________________________________________________\n",
            "conv2d_93 (Conv2D)              (None, 128, 128, 16) 2320        dropout_46[0][0]                 \n",
            "__________________________________________________________________________________________________\n",
            "max_pooling2d_21 (MaxPooling2D) (None, 64, 64, 16)   0           conv2d_93[0][0]                  \n",
            "__________________________________________________________________________________________________\n",
            "conv2d_94 (Conv2D)              (None, 64, 64, 32)   4640        max_pooling2d_21[0][0]           \n",
            "__________________________________________________________________________________________________\n",
            "dropout_47 (Dropout)            (None, 64, 64, 32)   0           conv2d_94[0][0]                  \n",
            "__________________________________________________________________________________________________\n",
            "conv2d_95 (Conv2D)              (None, 64, 64, 32)   9248        dropout_47[0][0]                 \n",
            "__________________________________________________________________________________________________\n",
            "max_pooling2d_22 (MaxPooling2D) (None, 32, 32, 32)   0           conv2d_95[0][0]                  \n",
            "__________________________________________________________________________________________________\n",
            "conv2d_96 (Conv2D)              (None, 32, 32, 64)   18496       max_pooling2d_22[0][0]           \n",
            "__________________________________________________________________________________________________\n",
            "dropout_48 (Dropout)            (None, 32, 32, 64)   0           conv2d_96[0][0]                  \n",
            "__________________________________________________________________________________________________\n",
            "conv2d_97 (Conv2D)              (None, 32, 32, 64)   36928       dropout_48[0][0]                 \n",
            "__________________________________________________________________________________________________\n",
            "max_pooling2d_23 (MaxPooling2D) (None, 16, 16, 64)   0           conv2d_97[0][0]                  \n",
            "__________________________________________________________________________________________________\n",
            "conv2d_98 (Conv2D)              (None, 16, 16, 128)  73856       max_pooling2d_23[0][0]           \n",
            "__________________________________________________________________________________________________\n",
            "dropout_49 (Dropout)            (None, 16, 16, 128)  0           conv2d_98[0][0]                  \n",
            "__________________________________________________________________________________________________\n",
            "conv2d_99 (Conv2D)              (None, 16, 16, 128)  147584      dropout_49[0][0]                 \n",
            "__________________________________________________________________________________________________\n",
            "max_pooling2d_24 (MaxPooling2D) (None, 8, 8, 128)    0           conv2d_99[0][0]                  \n",
            "__________________________________________________________________________________________________\n",
            "conv2d_100 (Conv2D)             (None, 8, 8, 256)    295168      max_pooling2d_24[0][0]           \n",
            "__________________________________________________________________________________________________\n",
            "dropout_50 (Dropout)            (None, 8, 8, 256)    0           conv2d_100[0][0]                 \n",
            "__________________________________________________________________________________________________\n",
            "conv2d_101 (Conv2D)             (None, 8, 8, 256)    590080      dropout_50[0][0]                 \n",
            "__________________________________________________________________________________________________\n",
            "conv2d_transpose_21 (Conv2DTran (None, 16, 16, 128)  131200      conv2d_101[0][0]                 \n",
            "__________________________________________________________________________________________________\n",
            "concatenate_21 (Concatenate)    (None, 16, 16, 256)  0           conv2d_transpose_21[0][0]        \n",
            "                                                                 conv2d_99[0][0]                  \n",
            "__________________________________________________________________________________________________\n",
            "conv2d_102 (Conv2D)             (None, 16, 16, 128)  295040      concatenate_21[0][0]             \n",
            "__________________________________________________________________________________________________\n",
            "dropout_51 (Dropout)            (None, 16, 16, 128)  0           conv2d_102[0][0]                 \n",
            "__________________________________________________________________________________________________\n",
            "conv2d_103 (Conv2D)             (None, 16, 16, 128)  147584      dropout_51[0][0]                 \n",
            "__________________________________________________________________________________________________\n",
            "conv2d_transpose_22 (Conv2DTran (None, 32, 32, 64)   32832       conv2d_103[0][0]                 \n",
            "__________________________________________________________________________________________________\n",
            "concatenate_22 (Concatenate)    (None, 32, 32, 128)  0           conv2d_transpose_22[0][0]        \n",
            "                                                                 conv2d_97[0][0]                  \n",
            "__________________________________________________________________________________________________\n",
            "conv2d_104 (Conv2D)             (None, 32, 32, 64)   73792       concatenate_22[0][0]             \n",
            "__________________________________________________________________________________________________\n",
            "dropout_52 (Dropout)            (None, 32, 32, 64)   0           conv2d_104[0][0]                 \n",
            "__________________________________________________________________________________________________\n",
            "conv2d_105 (Conv2D)             (None, 32, 32, 64)   36928       dropout_52[0][0]                 \n",
            "__________________________________________________________________________________________________\n",
            "conv2d_transpose_23 (Conv2DTran (None, 64, 64, 32)   8224        conv2d_105[0][0]                 \n",
            "__________________________________________________________________________________________________\n",
            "concatenate_23 (Concatenate)    (None, 64, 64, 64)   0           conv2d_transpose_23[0][0]        \n",
            "                                                                 conv2d_95[0][0]                  \n",
            "__________________________________________________________________________________________________\n",
            "conv2d_106 (Conv2D)             (None, 64, 64, 32)   18464       concatenate_23[0][0]             \n",
            "__________________________________________________________________________________________________\n",
            "dropout_53 (Dropout)            (None, 64, 64, 32)   0           conv2d_106[0][0]                 \n",
            "__________________________________________________________________________________________________\n",
            "conv2d_107 (Conv2D)             (None, 64, 64, 32)   9248        dropout_53[0][0]                 \n",
            "__________________________________________________________________________________________________\n",
            "conv2d_transpose_24 (Conv2DTran (None, 128, 128, 16) 2064        conv2d_107[0][0]                 \n",
            "__________________________________________________________________________________________________\n",
            "concatenate_24 (Concatenate)    (None, 128, 128, 32) 0           conv2d_transpose_24[0][0]        \n",
            "                                                                 conv2d_93[0][0]                  \n",
            "__________________________________________________________________________________________________\n",
            "conv2d_108 (Conv2D)             (None, 128, 128, 16) 4624        concatenate_24[0][0]             \n",
            "__________________________________________________________________________________________________\n",
            "dropout_54 (Dropout)            (None, 128, 128, 16) 0           conv2d_108[0][0]                 \n",
            "__________________________________________________________________________________________________\n",
            "conv2d_109 (Conv2D)             (None, 128, 128, 16) 2320        dropout_54[0][0]                 \n",
            "__________________________________________________________________________________________________\n",
            "global_average_pooling2d_3 (Glo (None, 16)           0           conv2d_109[0][0]                 \n",
            "__________________________________________________________________________________________________\n",
            "dense_2 (Dense)                 (None, 4)            68          global_average_pooling2d_3[0][0] \n",
            "==================================================================================================\n",
            "Total params: 1,941,156\n",
            "Trainable params: 1,941,156\n",
            "Non-trainable params: 0\n",
            "__________________________________________________________________________________________________\n"
          ],
          "name": "stdout"
        }
      ]
    },
    {
      "metadata": {
        "id": "u2JIk0DDecoE",
        "colab_type": "code",
        "colab": {}
      },
      "cell_type": "code",
      "source": [
        "earlystopper = EarlyStopping(patience=5, verbose=1)\n"
      ],
      "execution_count": 0,
      "outputs": []
    },
    {
      "metadata": {
        "id": "xJwqrQ59WqW_",
        "colab_type": "text"
      },
      "cell_type": "markdown",
      "source": [
        "# Preparing the Input Data"
      ]
    },
    {
      "metadata": {
        "id": "6WNi8SL7WqXB",
        "colab_type": "code",
        "outputId": "84d49344-5ae7-46bc-eedd-0590a1436a54",
        "colab": {
          "base_uri": "https://localhost:8080/",
          "height": 34
        }
      },
      "cell_type": "code",
      "source": [
        "images_array = images_array.astype(np.float32)\n",
        "print(images_array.dtype)\n"
      ],
      "execution_count": 0,
      "outputs": [
        {
          "output_type": "stream",
          "text": [
            "float32\n"
          ],
          "name": "stdout"
        }
      ]
    },
    {
      "metadata": {
        "id": "0bYDjZGcWqYC",
        "colab_type": "code",
        "outputId": "eb8eb7c9-76ba-4f99-8273-87d540c55ba8",
        "colab": {
          "base_uri": "https://localhost:8080/",
          "height": 34
        }
      },
      "cell_type": "code",
      "source": [
        "output_label = train_data_file.iloc[:,1:]\n",
        "output_label = output_label.values\n",
        "print(images_array.shape,output_label.shape)"
      ],
      "execution_count": 0,
      "outputs": [
        {
          "output_type": "stream",
          "text": [
            "(24000, 64, 64, 3) (24000, 4)\n"
          ],
          "name": "stdout"
        }
      ]
    },
    {
      "metadata": {
        "id": "R-mPYQtq_0Vf",
        "colab_type": "code",
        "colab": {}
      },
      "cell_type": "code",
      "source": [
        "output_label[:,0] = output_label[:,0]*128 / 640\n",
        "output_label[:,1] = output_label[:,1]*128 / 640\n",
        "output_label[:,2] = output_label[:,2]*128 / 480\n",
        "output_label[:,3] = output_label[:,3]*128 / 480"
      ],
      "execution_count": 0,
      "outputs": []
    },
    {
      "metadata": {
        "id": "zEqaclMu7Kxh",
        "colab_type": "code",
        "outputId": "2f0c24ef-86a3-48b8-a67c-ddbfc8385fbf",
        "colab": {
          "base_uri": "https://localhost:8080/",
          "height": 136
        }
      },
      "cell_type": "code",
      "source": [
        "print(output_label)"
      ],
      "execution_count": 0,
      "outputs": [
        {
          "output_type": "stream",
          "text": [
            "[[ 15  89  22 112]\n",
            " [ 14 113  38  93]\n",
            " [  2 112  33  96]\n",
            " ...\n",
            " [ 24 118   8 120]\n",
            " [  8 114  27 109]\n",
            " [ 14 106  43  90]]\n"
          ],
          "name": "stdout"
        }
      ]
    },
    {
      "metadata": {
        "id": "ITBpSTXHWqYM",
        "colab_type": "text"
      },
      "cell_type": "markdown",
      "source": [
        "# Train the model"
      ]
    },
    {
      "metadata": {
        "id": "4if5I5GVWqYN",
        "colab_type": "code",
        "outputId": "2815dfc7-5524-4b16-a7f3-a60571461135",
        "colab": {
          "base_uri": "https://localhost:8080/",
          "height": 180
        }
      },
      "cell_type": "code",
      "source": [
        "results = model.fit(images_array, output_label, validation_split=0.1, batch_size=16, epochs=5, \n",
        "                    callbacks=[earlystopper])"
      ],
      "execution_count": 0,
      "outputs": [
        {
          "output_type": "error",
          "ename": "NameError",
          "evalue": "ignored",
          "traceback": [
            "\u001b[0;31m---------------------------------------------------------------------------\u001b[0m",
            "\u001b[0;31mNameError\u001b[0m                                 Traceback (most recent call last)",
            "\u001b[0;32m<ipython-input-1-9ecd1fca1d28>\u001b[0m in \u001b[0;36m<module>\u001b[0;34m()\u001b[0m\n\u001b[0;32m----> 1\u001b[0;31m results = model.fit(images_array, output_label, validation_split=0.1, batch_size=16, epochs=5, \n\u001b[0m\u001b[1;32m      2\u001b[0m                     callbacks=[earlystopper])\n",
            "\u001b[0;31mNameError\u001b[0m: name 'model' is not defined"
          ]
        }
      ]
    },
    {
      "metadata": {
        "id": "CkCukC72WqYf",
        "colab_type": "code",
        "outputId": "e04290ed-9147-42c0-fd1a-be0853c099d5",
        "colab": {
          "base_uri": "https://localhost:8080/",
          "height": 374
        }
      },
      "cell_type": "code",
      "source": [
        "! pip install keras-vis\n"
      ],
      "execution_count": 0,
      "outputs": [
        {
          "output_type": "stream",
          "text": [
            "Requirement already satisfied: keras-vis in /usr/local/lib/python3.6/dist-packages (0.4.1)\n",
            "Requirement already satisfied: matplotlib in /usr/local/lib/python3.6/dist-packages (from keras-vis) (3.0.2)\n",
            "Requirement already satisfied: six in /usr/local/lib/python3.6/dist-packages (from keras-vis) (1.11.0)\n",
            "Requirement already satisfied: keras in /usr/local/lib/python3.6/dist-packages (from keras-vis) (2.2.4)\n",
            "Requirement already satisfied: scikit-image in /usr/local/lib/python3.6/dist-packages (from keras-vis) (0.13.1)\n",
            "Requirement already satisfied: h5py in /usr/local/lib/python3.6/dist-packages (from keras-vis) (2.8.0)\n",
            "Requirement already satisfied: pyparsing!=2.0.4,!=2.1.2,!=2.1.6,>=2.0.1 in /usr/local/lib/python3.6/dist-packages (from matplotlib->keras-vis) (2.3.1)\n",
            "Requirement already satisfied: cycler>=0.10 in /usr/local/lib/python3.6/dist-packages (from matplotlib->keras-vis) (0.10.0)\n",
            "Requirement already satisfied: numpy>=1.10.0 in /usr/local/lib/python3.6/dist-packages (from matplotlib->keras-vis) (1.14.6)\n",
            "Requirement already satisfied: python-dateutil>=2.1 in /usr/local/lib/python3.6/dist-packages (from matplotlib->keras-vis) (2.5.3)\n",
            "Requirement already satisfied: kiwisolver>=1.0.1 in /usr/local/lib/python3.6/dist-packages (from matplotlib->keras-vis) (1.0.1)\n",
            "Requirement already satisfied: keras-preprocessing>=1.0.5 in /usr/local/lib/python3.6/dist-packages (from keras->keras-vis) (1.0.9)\n",
            "Requirement already satisfied: scipy>=0.14 in /usr/local/lib/python3.6/dist-packages (from keras->keras-vis) (1.1.0)\n",
            "Requirement already satisfied: pyyaml in /usr/local/lib/python3.6/dist-packages (from keras->keras-vis) (3.13)\n",
            "Requirement already satisfied: keras-applications>=1.0.6 in /usr/local/lib/python3.6/dist-packages (from keras->keras-vis) (1.0.7)\n",
            "Requirement already satisfied: PyWavelets>=0.4.0 in /usr/local/lib/python3.6/dist-packages (from scikit-image->keras-vis) (1.0.1)\n",
            "Requirement already satisfied: pillow>=2.1.0 in /usr/local/lib/python3.6/dist-packages (from scikit-image->keras-vis) (4.0.0)\n",
            "Requirement already satisfied: networkx>=1.8 in /usr/local/lib/python3.6/dist-packages (from scikit-image->keras-vis) (2.2)\n",
            "Requirement already satisfied: setuptools in /usr/local/lib/python3.6/dist-packages (from kiwisolver>=1.0.1->matplotlib->keras-vis) (40.8.0)\n",
            "Requirement already satisfied: olefile in /usr/local/lib/python3.6/dist-packages (from pillow>=2.1.0->scikit-image->keras-vis) (0.46)\n",
            "Requirement already satisfied: decorator>=4.3.0 in /usr/local/lib/python3.6/dist-packages (from networkx>=1.8->scikit-image->keras-vis) (4.3.2)\n"
          ],
          "name": "stdout"
        }
      ]
    },
    {
      "metadata": {
        "id": "L_m-8T_Mx7G4",
        "colab_type": "code",
        "outputId": "e409ade5-99b6-4184-8979-5d1270b7977c",
        "colab": {
          "base_uri": "https://localhost:8080/",
          "height": 197
        }
      },
      "cell_type": "code",
      "source": [
        "from vis.visualization import visualize_cam\n",
        "layer_idx = model.layers[-6]\n",
        "seed_input = images_array[0]\n",
        "visualize_cam(model, layer_idx,seed_input)"
      ],
      "execution_count": 0,
      "outputs": [
        {
          "output_type": "error",
          "ename": "TypeError",
          "evalue": "ignored",
          "traceback": [
            "\u001b[0;31m---------------------------------------------------------------------------\u001b[0m",
            "\u001b[0;31mTypeError\u001b[0m                                 Traceback (most recent call last)",
            "\u001b[0;32m<ipython-input-26-0033ab8846dd>\u001b[0m in \u001b[0;36m<module>\u001b[0;34m()\u001b[0m\n\u001b[1;32m      2\u001b[0m \u001b[0mlayer_idx\u001b[0m \u001b[0;34m=\u001b[0m \u001b[0mmodel\u001b[0m\u001b[0;34m.\u001b[0m\u001b[0mlayers\u001b[0m\u001b[0;34m[\u001b[0m\u001b[0;34m-\u001b[0m\u001b[0;36m6\u001b[0m\u001b[0;34m]\u001b[0m\u001b[0;34m\u001b[0m\u001b[0;34m\u001b[0m\u001b[0m\n\u001b[1;32m      3\u001b[0m \u001b[0mseed_input\u001b[0m \u001b[0;34m=\u001b[0m \u001b[0mimages_array\u001b[0m\u001b[0;34m[\u001b[0m\u001b[0;36m0\u001b[0m\u001b[0;34m]\u001b[0m\u001b[0;34m\u001b[0m\u001b[0;34m\u001b[0m\u001b[0m\n\u001b[0;32m----> 4\u001b[0;31m \u001b[0mvisualize_cam\u001b[0m\u001b[0;34m(\u001b[0m\u001b[0mmodel\u001b[0m\u001b[0;34m,\u001b[0m \u001b[0mlayer_idx\u001b[0m\u001b[0;34m,\u001b[0m\u001b[0mseed_input\u001b[0m\u001b[0;34m)\u001b[0m\u001b[0;34m\u001b[0m\u001b[0;34m\u001b[0m\u001b[0m\n\u001b[0m",
            "\u001b[0;31mTypeError\u001b[0m: visualize_cam() missing 1 required positional argument: 'seed_input'"
          ]
        }
      ]
    },
    {
      "metadata": {
        "id": "d08MuG85iCNf",
        "colab_type": "code",
        "colab": {}
      },
      "cell_type": "code",
      "source": [
        "import pickle\n",
        "import numpy as np\n",
        "with open(\"/content/gdrive/My Drive/Colab Notebooks/image_arr2.pkl\",\"rb\") as file:\n",
        "    test_images = pickle.load(file)\n",
        "test_image = np.array(test_images)"
      ],
      "execution_count": 0,
      "outputs": []
    },
    {
      "metadata": {
        "id": "K1nU8CldqmE7",
        "colab_type": "code",
        "colab": {}
      },
      "cell_type": "code",
      "source": [
        "test_image = test_image.astype(\"float32\")\n"
      ],
      "execution_count": 0,
      "outputs": []
    },
    {
      "metadata": {
        "id": "xDe-_IqdqnD6",
        "colab_type": "code",
        "outputId": "23537f80-7aa1-4967-8c55-f1a40a8615c7",
        "colab": {
          "base_uri": "https://localhost:8080/",
          "height": 163
        }
      },
      "cell_type": "code",
      "source": [
        ""
      ],
      "execution_count": 0,
      "outputs": [
        {
          "output_type": "error",
          "ename": "NameError",
          "evalue": "ignored",
          "traceback": [
            "\u001b[0;31m---------------------------------------------------------------------------\u001b[0m",
            "\u001b[0;31mNameError\u001b[0m                                 Traceback (most recent call last)",
            "\u001b[0;32m<ipython-input-26-6a6732b935ce>\u001b[0m in \u001b[0;36m<module>\u001b[0;34m()\u001b[0m\n\u001b[0;32m----> 1\u001b[0;31m \u001b[0mtest_normalized_arrays\u001b[0m \u001b[0;34m=\u001b[0m \u001b[0mtest_normalized_arrays\u001b[0m\u001b[0;34m.\u001b[0m\u001b[0mastype\u001b[0m\u001b[0;34m(\u001b[0m\u001b[0;34m\"float32\"\u001b[0m\u001b[0;34m)\u001b[0m\u001b[0;34m\u001b[0m\u001b[0;34m\u001b[0m\u001b[0m\n\u001b[0m",
            "\u001b[0;31mNameError\u001b[0m: name 'test_normalized_arrays' is not defined"
          ]
        }
      ]
    },
    {
      "metadata": {
        "id": "7i13AVF_q0De",
        "colab_type": "code",
        "outputId": "463664aa-6be9-4f83-9b05-f9ca3d62324e",
        "colab": {
          "base_uri": "https://localhost:8080/",
          "height": 190
        }
      },
      "cell_type": "code",
      "source": [
        "from keras.models import load_model\n",
        "model = load_model('/content/gdrive/My Drive/detector_1st-corr.h5')\n"
      ],
      "execution_count": 0,
      "outputs": [
        {
          "output_type": "stream",
          "text": [
            "WARNING:tensorflow:From /usr/local/lib/python3.6/dist-packages/tensorflow/python/framework/op_def_library.py:263: colocate_with (from tensorflow.python.framework.ops) is deprecated and will be removed in a future version.\n",
            "Instructions for updating:\n",
            "Colocations handled automatically by placer.\n",
            "WARNING:tensorflow:From /usr/local/lib/python3.6/dist-packages/keras/backend/tensorflow_backend.py:3445: calling dropout (from tensorflow.python.ops.nn_ops) with keep_prob is deprecated and will be removed in a future version.\n",
            "Instructions for updating:\n",
            "Please use `rate` instead of `keep_prob`. Rate should be set to `rate = 1 - keep_prob`.\n",
            "WARNING:tensorflow:From /usr/local/lib/python3.6/dist-packages/tensorflow/python/ops/math_ops.py:3066: to_int32 (from tensorflow.python.ops.math_ops) is deprecated and will be removed in a future version.\n",
            "Instructions for updating:\n",
            "Use tf.cast instead.\n"
          ],
          "name": "stdout"
        }
      ]
    },
    {
      "metadata": {
        "id": "7Ve8PG4Ur9Ns",
        "colab_type": "code",
        "colab": {}
      },
      "cell_type": "code",
      "source": [
        "pred_values = detector.predict(test_image)"
      ],
      "execution_count": 0,
      "outputs": []
    },
    {
      "metadata": {
        "id": "Jx4zTlthtGL_",
        "colab_type": "code",
        "outputId": "f38f0bde-2d6a-4b4a-e087-7565432288e3",
        "colab": {
          "base_uri": "https://localhost:8080/",
          "height": 136
        }
      },
      "cell_type": "code",
      "source": [
        "print(pred_values)"
      ],
      "execution_count": 0,
      "outputs": [
        {
          "output_type": "stream",
          "text": [
            "[[ 35.236393 592.3403    52.81777  424.21793 ]\n",
            " [ 64.88444  572.24146   57.038708 409.58655 ]\n",
            " [ 92.01625  537.31134   63.60853  387.74478 ]\n",
            " ...\n",
            " [ 32.00356  608.0943    69.49086  416.63058 ]\n",
            " [ 41.588844 559.607     62.559326 397.46445 ]\n",
            " [ 27.997965 610.6651    42.71215  430.5142  ]]\n"
          ],
          "name": "stdout"
        }
      ]
    },
    {
      "metadata": {
        "id": "wyNX3bfq4bL-",
        "colab_type": "code",
        "colab": {}
      },
      "cell_type": "code",
      "source": [
        "pred_values[:,0] = pred_values[:,0]*640 /128\n",
        "pred_values[:,1] = pred_values[:,1]*640 /128\n",
        "pred_values[:,2] = pred_values[:,2]*480 /128\n",
        "pred_values[:,3] = pred_values[:,3]*480 /128"
      ],
      "execution_count": 0,
      "outputs": []
    },
    {
      "metadata": {
        "id": "Nwxg58WltLe3",
        "colab_type": "code",
        "colab": {}
      },
      "cell_type": "code",
      "source": [
        "for i in range(len(pred_values)) : \n",
        "  pred_values[i][0],pred_values[i][1],pred_values[i][2],pred_values[i][3] = int(pred_values[i][0]),int(pred_values[i][1]),int(pred_values[i][2]),int(pred_values[i][3])"
      ],
      "execution_count": 0,
      "outputs": []
    },
    {
      "metadata": {
        "id": "no-sLTSX33dp",
        "colab_type": "code",
        "outputId": "c36ca56d-24b4-448a-cfdc-308b73990c5b",
        "colab": {
          "base_uri": "https://localhost:8080/",
          "height": 136
        }
      },
      "cell_type": "code",
      "source": [
        "print(pred_values)"
      ],
      "execution_count": 0,
      "outputs": [
        {
          "output_type": "stream",
          "text": [
            "[[ 35. 592.  52. 424.]\n",
            " [ 64. 572.  57. 409.]\n",
            " [ 92. 537.  63. 387.]\n",
            " ...\n",
            " [ 32. 608.  69. 416.]\n",
            " [ 41. 559.  62. 397.]\n",
            " [ 27. 610.  42. 430.]]\n"
          ],
          "name": "stdout"
        }
      ]
    },
    {
      "metadata": {
        "id": "fael6pHO1p8X",
        "colab_type": "code",
        "colab": {}
      },
      "cell_type": "code",
      "source": [
        "import pandas as pd\n",
        "test_file = pd.read_csv(\"/content/gdrive/My Drive/test_new.csv\")"
      ],
      "execution_count": 0,
      "outputs": []
    },
    {
      "metadata": {
        "id": "GCAWA1xh1_N8",
        "colab_type": "code",
        "outputId": "1ce8f90a-a014-43fd-ce58-3de65c8c159c",
        "colab": {
          "base_uri": "https://localhost:8080/",
          "height": 34
        }
      },
      "cell_type": "code",
      "source": [
        "print(len(pred_values))"
      ],
      "execution_count": 0,
      "outputs": [
        {
          "output_type": "stream",
          "text": [
            "24045\n"
          ],
          "name": "stdout"
        }
      ]
    },
    {
      "metadata": {
        "id": "qf256LwT2Btq",
        "colab_type": "code",
        "colab": {}
      },
      "cell_type": "code",
      "source": [
        "test_file['x1'] = pred_values[:,0]\n",
        "test_file['x2'] = pred_values[:,1]\n",
        "test_file['y1'] = pred_values[:,2]\n",
        "test_file['y2'] = pred_values[:,3]\n"
      ],
      "execution_count": 0,
      "outputs": []
    },
    {
      "metadata": {
        "id": "6kU3dQUmKhN4",
        "colab_type": "code",
        "colab": {}
      },
      "cell_type": "code",
      "source": [
        "test_file['x1'] = test_file['x1'].apply(lambda row: 0 if row<=0 else row)\n",
        "test_file['x2'] = test_file['x2'].apply(lambda row: 640 if row>=640 else row)\n",
        "test_file['y1'] = test_file['y1'].apply(lambda row: 0 if row<=0 else row)\n",
        "test_file['y2'] = test_file['y2'].apply(lambda row: 480 if row>=480 else row)"
      ],
      "execution_count": 0,
      "outputs": []
    },
    {
      "metadata": {
        "id": "24UqZB9n2gMS",
        "colab_type": "code",
        "colab": {}
      },
      "cell_type": "code",
      "source": [
        "test_file.to_csv('/content/gdrive/My Drive/Colab Notebooks/test_level2.csv')"
      ],
      "execution_count": 0,
      "outputs": []
    },
    {
      "metadata": {
        "id": "5TK37-oDXbcF",
        "colab_type": "code",
        "colab": {}
      },
      "cell_type": "code",
      "source": [
        ""
      ],
      "execution_count": 0,
      "outputs": []
    }
  ]
}